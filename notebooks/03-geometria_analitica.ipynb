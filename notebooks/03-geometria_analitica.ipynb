{
 "cells": [
  {
   "cell_type": "code",
   "execution_count": 1,
   "metadata": {},
   "outputs": [],
   "source": [
    "import numpy as np\n",
    "import matplotlib.pyplot as plt"
   ]
  },
  {
   "cell_type": "markdown",
   "metadata": {},
   "source": [
    "# Etapa 1\n"
   ]
  },
  {
   "cell_type": "markdown",
   "metadata": {},
   "source": [
    "# Exercício 1\n",
    "**Objetivo: traçar retas à partir das equações da reta**\n",
    "\n",
    "As equações de primeiro grau são aquelas que relacionam uma variável de entrada ($x$) a uma saída ($y$) por meio de um polinômio de primeiro grau como:\n",
    "\n",
    "$$\n",
    "y = ax + b\n",
    "$$\n",
    "\n",
    "Esse tipo de equação também é chamado de \"equação da reta\". O motivo disso é que os pontos $(x_0,y_0)$ que satisfazem a essa equação se organizam em uma reta:"
   ]
  },
  {
   "cell_type": "code",
   "execution_count": 2,
   "metadata": {},
   "outputs": [
    {
     "data": {
      "image/png": "[encoded data removed]",
      "text/plain": [
       "<Figure size 432x288 with 1 Axes>"
      ]
     },
     "metadata": {
      "needs_background": "light"
     },
     "output_type": "display_data"
    }
   ],
   "source": [
    "x = np.linspace(-1, 1, 100)\n",
    "a, b = 1, -2\n",
    "y = a*x + b\n",
    "\n",
    "plt.figure()\n",
    "plt.plot(x, y)\n",
    "plt.grid()\n",
    "plt.xlabel('x')\n",
    "plt.ylabel('y')\n",
    "plt.show()"
   ]
  },
  {
   "cell_type": "markdown",
   "metadata": {},
   "source": [
    "Uma outra forma de escrever a equação da reta é usar a forma geral: \n",
    "\n",
    "$$\n",
    "Ax + By + C = 0\n",
    "$$\n",
    "\n",
    "Nesse caso, para traçar a reta, é preciso isolar $y$ e então proceder normalmente.\n",
    "\n",
    "Trace, na mesma figura, as retas:\n",
    "1. $y = 0.5x$\n",
    "2. $y = 1 - 0.5x$\n",
    "3. $2y - 2 - x = 0$\n",
    "4. $y = 2$"
   ]
  },
  {
   "cell_type": "code",
   "execution_count": 3,
   "metadata": {},
   "outputs": [],
   "source": [
    "# Resolva o exercício aqui"
   ]
  },
  {
   "cell_type": "code",
   "execution_count": null,
   "metadata": {},
   "outputs": [],
   "source": []
  },
  {
   "cell_type": "markdown",
   "metadata": {},
   "source": [
    "# Exercício 2\n",
    "**Objetivo: relacionar retas a sistemas lineares**\n",
    "\n",
    "Dois corredores estão correndo por uma trilha. Um deles parte da marcação do km 3, e corre a 5km/h. O outro deles parte da marcação do km 5 e corre a 2km/h, na mesma direção do primeiro. Para encontrar a posição na estrada e o instante em que eles vão se encontrar, podemos modelar e resolver o sistema da seguinte forma (se quiser ver uma animação com a solução, clique na figura!):\n",
    "\n",
    "<a href=\"resolvendo_sistema.gif\"><img src=\"resolvendo_sistema.png\" width=600></a>\n",
    "\n",
    "Nesta solução:\n",
    "\n",
    "1. Qual variável (x ou y) representa o tempo decorrido desde o início da corrida?\n",
    "2. Qual variável (x ou y) representa o espaço ao longo da trilha?\n",
    "3. Qual equação (azul ou vermelha) representa o movimento do primeiro corredor?\n",
    "4. Qual equação (azul ou vermelha) representa o movimento do segundo corredor?\n",
    "5. Após quanto tempo os corredores se encontrarão?\n",
    "6. Em que local da trilha os corredores se encontrarão?\n",
    "\n",
    "Após esta análise,\n",
    "\n",
    "7. Trace as retas que representam os movimentos dos corredores\n",
    "8. Qual é o ponto em que as retas se encontram?"
   ]
  },
  {
   "cell_type": "code",
   "execution_count": 4,
   "metadata": {},
   "outputs": [],
   "source": [
    "# Resolva seu exercício aqui"
   ]
  },
  {
   "cell_type": "markdown",
   "metadata": {},
   "source": [
    "# Exercício 3\n",
    "**Objetivo: relacionar sistemas lineares a conjuntos de retas**\n",
    "\n",
    "O sistema de equações acima é:\n",
    "\n",
    "$$\n",
    "\\begin{cases}\n",
    "\\begin{aligned}\n",
    "  y &= 5x + 3\\\\\n",
    "  y &= 2x + 5\n",
    "\\end{aligned}\n",
    "\\end{cases}\n",
    "$$\n",
    "\n",
    "Ele pode ser re-escrito como:\n",
    "$$\n",
    "\\begin{cases}\n",
    "\\begin{aligned}\n",
    "  -5x + 1y  &= 3\\\\\n",
    "  -2 + 1y  &=  5\n",
    "\\end{aligned}\n",
    "\\end{cases}\n",
    "$$\n",
    "\n",
    "e, na forma matricial, ficaríamos com:\n",
    "$$\n",
    "\n",
    "\\begin{bmatrix}\n",
    "    -5 & 1\\\\\n",
    "    -2 & 1\n",
    "\\end{bmatrix} \n",
    "\\begin{bmatrix}\n",
    "    x \\\\\n",
    "    y\n",
    "\\end{bmatrix}\n",
    "=\n",
    "\\begin{bmatrix}\n",
    "    3 \\\\\n",
    "    5 \n",
    "\\end{bmatrix}\n",
    "$$\n",
    "\n",
    "1. Use a instrução `linalg.solve` para resolver esse sistema. A solução é a mesma da que fizemos manualmente?\n",
    "2. O procedimento abaixo pode ser usado para \"recuperar\" as equações da reta que levaram à expressão matricial (se quiser ver uma animação, clique na figura). Use o procedimento para recuperar a equação da segunda reta correspondente a este exercício.\n",
    "<a href=\"matriz_para_reta.gif\"><img src=\"matriz_para_reta.png\" width=600></a>"
   ]
  },
  {
   "cell_type": "code",
   "execution_count": 5,
   "metadata": {},
   "outputs": [],
   "source": [
    "# Lembre-se da sintaxe para escrever matrizes em Python:\n",
    "A = np.array( [ [-5,1], [-2,1]])\n",
    "y = np.array( [[3], [5]])\n"
   ]
  },
  {
   "cell_type": "code",
   "execution_count": null,
   "metadata": {},
   "outputs": [],
   "source": []
  },
  {
   "cell_type": "markdown",
   "metadata": {},
   "source": [
    "# Exercício 4\n",
    "**Objetivo: resolver um sistema com apoio gráfico**\n",
    "\n",
    "1. Um programador entra em um bar e pede três coxinhas e um brigadeiro. Sua conta dá um total de 19 reais. Trace a reta que representa todos os possíveis preços de coxinhas e de brigadeiros para esta compra.\n",
    "\n",
    "2. Em seguida, um outro programador entra nesse mesmo bar. Ele pede duas coxinhas e um brigadeiro, e sua conta dá um total de 12 reais. Complemente o mesmo gráfico anterior traçando a reta que representa todos os possíveis preços de coxinhas e brigadeiros nessa segunda compra.\n",
    "\n",
    "3. Usando `np.linalg.solve`, encontre: qual é o preço da coxinha e qual é o preço do brigadeiro? Marque a solução no gráfico.\n",
    "\n"
   ]
  },
  {
   "cell_type": "code",
   "execution_count": 6,
   "metadata": {},
   "outputs": [],
   "source": [
    "# Resolva seu exercício aqui."
   ]
  },
  {
   "cell_type": "markdown",
   "metadata": {},
   "source": [
    "# Exercício 5\n",
    "**Objetivo: relacionar o paralelismo de retas com a solução do sistema correspondente**\n",
    "\n",
    "Dizemos que duas retas são paralelas quando seus coeficientes angulares (o \"$a$\" na equação $y=ax+b$) é igual. Por exemplo:"
   ]
  },
  {
   "cell_type": "code",
   "execution_count": 7,
   "metadata": {},
   "outputs": [
    {
     "data": {
      "image/png": "[encoded data removed]",
      "text/plain": [
       "<Figure size 432x288 with 1 Axes>"
      ]
     },
     "metadata": {
      "needs_background": "light"
     },
     "output_type": "display_data"
    }
   ],
   "source": [
    "x = np.linspace(-1, 1, 100)\n",
    "a, b1, b2 = 2, -1, 2\n",
    "y1 = a*x+b1\n",
    "y2 = a*x+b2\n",
    "plt.figure()\n",
    "plt.plot(x, y1)\n",
    "plt.plot(x, y2)\n",
    "plt.show()"
   ]
  },
  {
   "cell_type": "markdown",
   "metadata": {},
   "source": [
    "1. No sistema: \n",
    "\n",
    "$$\n",
    "\\begin{bmatrix}\n",
    "    1 & 2\\\\\n",
    "    2 & D\n",
    "\\end{bmatrix} \n",
    "\\begin{bmatrix}\n",
    "    x \\\\\n",
    "    y\n",
    "\\end{bmatrix}\n",
    "=\n",
    "\\begin{bmatrix}\n",
    "    3 \\\\\n",
    "    4 \n",
    "\\end{bmatrix}\n",
    "$$\n",
    "\n",
    "determine o valor de $D$ para que as retas correspondentes a este sistema sejam paralelas.\n",
    "\n",
    "2. Tente usar `np.linalg.solve` para resolver o sistema usando o valor de $C$ que você encontrou. O que o algoritmo retorna? Por que?\n",
    "\n",
    "3. O valor de $D$ depende dos valores da matriz do lado direito da equação?"
   ]
  },
  {
   "cell_type": "code",
   "execution_count": 8,
   "metadata": {},
   "outputs": [
    {
     "name": "stdout",
     "output_type": "stream",
     "text": [
      "[[2. ]\n",
      " [0.5]]\n"
     ]
    }
   ],
   "source": [
    "D = 0\n",
    "A = np.array([[1, 2], [2, D]])\n",
    "y = np.array([[3],[4]])\n",
    "x = np.linalg.solve(A, y)\n",
    "print(x)"
   ]
  },
  {
   "cell_type": "markdown",
   "metadata": {},
   "source": [
    "# Exercício 6\n",
    "**Objetivo: relacionar o paralelismo de retas ao determinante da matriz**\n",
    "\n",
    "Quando um sistema de equações está relacionado a retas paralelas, temos duas possibilidades:\n",
    "\n",
    "1. Se as retas nunca se encontram, então o sistema não tem solução.\n",
    "2. Se as retas se sobrepõem, então temos infinitas soluções.\n",
    "\n",
    "O problema de saber se o sistema tem solução *antes* de tentar resolvê-lo foi bastante estudado no passado, porque resolver sistemas é bastante trabalhoso. A solução para esse problema foi o *determinante*. O determinante é um valor que é calculado à partir da matriz $A$ em sistemas $Ax=y$, e ele é diferente de $0$ caso o sistema correspondente tenha solução única, e é igual a $0$ caso ou não tenha solução ou tenha infinitas soluções.\n",
    "\n",
    "Uma matriz cujo determinante é zero é chamada de *singular*. Uma matriz singular não tem matriz inversa!\n",
    "\n",
    "Em Python, podemos calcular o determinante de uma matriz usando `np.linalg.det`:"
   ]
  },
  {
   "cell_type": "code",
   "execution_count": 9,
   "metadata": {},
   "outputs": [
    {
     "name": "stdout",
     "output_type": "stream",
     "text": [
      "-4.0\n",
      "0.0\n"
     ]
    }
   ],
   "source": [
    "A = np.array([[1, 2],[2, 0]])\n",
    "print(np.linalg.det(A))\n",
    "\n",
    "A = np.array([[1, 2],[2, 4]])\n",
    "print(np.linalg.det(A))"
   ]
  },
  {
   "cell_type": "markdown",
   "metadata": {},
   "source": [
    "# Exercício 7\n",
    "**Objetivo: analisar o erro relacionado a tentar inverter uma matriz singular**\n",
    "\n",
    "Uma matriz singular não tem inversa. Porém, podemos tentar inverter uma matriz singular usando Python. Qual é o erro que `np.linalg.inv(X)` retorna quando `X` é uma matriz singular? Como esse erro pode ser interpretado?"
   ]
  },
  {
   "cell_type": "code",
   "execution_count": 10,
   "metadata": {},
   "outputs": [],
   "source": [
    "# RESOLVA O EXERCÍCIO AQUI"
   ]
  },
  {
   "cell_type": "markdown",
   "metadata": {},
   "source": [
    "# Exercício 8\n",
    "**Objetivo: relacionar o determinante à geometria de um sistema**\n",
    "\n",
    "Use a formulação matricial de sistemas e o cálculo de um determinante para determinar se as retas:\n",
    "\n",
    "$4x + 5y=-3$\n",
    "\n",
    "e \n",
    "\n",
    "$y=6x+5$ \n",
    "  \n",
    "se cruzam."
   ]
  },
  {
   "cell_type": "code",
   "execution_count": 11,
   "metadata": {},
   "outputs": [],
   "source": [
    "# RESOLVA SEU EXERCÍCIO AQUI"
   ]
  },
  {
   "cell_type": "markdown",
   "metadata": {},
   "source": [
    "# Etapa 2"
   ]
  },
  {
   "cell_type": "markdown",
   "metadata": {},
   "source": [
    "# Exercício 9\n",
    "**Objetivo: visualizar uma núvem de pontos e calcular a área de núvens de pontos**\n",
    "\n",
    "Neste exercício e nos próximos, vamos usar visualizações com núvens de pontos. Inicialmente, vamos entender bem como usar esse recurso de visualização.\n",
    "\n",
    "1. Na figura abaixo, encontre a área ocupada pela nuvem de pontos.\n",
    "2. Modifique os parâmetros da chamada `np.random.uniform(-0.5, 0.5, size=(2, 600))` para que a núvem de pontos ocupe uma área 4 vezes maior que a que você calculou inicialmente. A solução para isso é única?"
   ]
  },
  {
   "cell_type": "code",
   "execution_count": 45,
   "metadata": {},
   "outputs": [
    {
     "data": {
      "image/png": "[encoded data removed]",
      "text/plain": [
       "<Figure size 432x288 with 1 Axes>"
      ]
     },
     "metadata": {
      "needs_background": "light"
     },
     "output_type": "display_data"
    }
   ],
   "source": [
    "x = np.random.uniform(-0.5, 0.5, size=(2, 600))\n",
    "plt.figure()\n",
    "plt.scatter(x[0,:], x[1,:], s=1, c='r')\n",
    "plt.xlim([-2, 2])\n",
    "plt.ylim([-2, 2])\n",
    "plt.grid()\n",
    "plt.show()"
   ]
  },
  {
   "cell_type": "markdown",
   "metadata": {},
   "source": [
    "# Exercício 10\n",
    "**Objetivo: identificar diferentes tipos de transformadas**\n",
    "\n",
    "Quando multiplicamos a núvem de pontos por uma matriz $A$, levamos a uma transformação de seu formato:"
   ]
  },
  {
   "cell_type": "code",
   "execution_count": 60,
   "metadata": {},
   "outputs": [
    {
     "data": {
      "image/png": "[encoded data removed]",
      "text/plain": [
       "<Figure size 432x288 with 1 Axes>"
      ]
     },
     "metadata": {
      "needs_background": "light"
     },
     "output_type": "display_data"
    }
   ],
   "source": [
    "x = np.random.uniform(-0.5, 0.5, size=(2, 600))\n",
    "A = np.array([ [2, 0], [0, 2] ])\n",
    "y = A @ x\n",
    "plt.figure()\n",
    "plt.scatter(x[0,:], x[1,:], s=1, c='r')\n",
    "plt.scatter(y[0,:], y[1,:], s=1, c='b')\n",
    "plt.xlim([-2, 2])\n",
    "plt.ylim([-2, 2])\n",
    "plt.grid()\n",
    "plt.show()"
   ]
  },
  {
   "cell_type": "markdown",
   "metadata": {},
   "source": [
    "Existem algumas transformações que são conhecidas por seus nomes:\n",
    "\n",
    "* Rotação\n",
    "* Cisalhamento\n",
    "* Expansão ou contração (no eixo X e/ou no eixo Y)\n",
    "\n",
    "1. Usando o código acima como base, identifique as matrizes, dentre as abaixo, que correspondem a rotações, cisalhamentos, expansões ou contrações:\n",
    "$$\n",
    "\\begin{bmatrix}\n",
    "    1 & 0\\\\\n",
    "    0 & 2\n",
    "\\end{bmatrix}\n",
    "\\begin{bmatrix}\n",
    "    1 & 1\\\\\n",
    "    0 & 1\n",
    "\\end{bmatrix}\n",
    "\\begin{bmatrix}\n",
    "    1 & 0\\\\\n",
    "    1 & 1\n",
    "\\end{bmatrix}\n",
    "\\begin{bmatrix}\n",
    "    0.7 & -0.7\\\\\n",
    "    0.7 & 0.7\n",
    "\\end{bmatrix}\n",
    "\\begin{bmatrix}\n",
    "    0.86 & -0.5\\\\\n",
    "    0.5 & 0.86\n",
    "\\end{bmatrix}\n",
    "$$\n",
    "\n",
    "2. Para cada matriz, encontre uma outra matriz que retorna os pontos transformados à sua posição original (isto é, a transformação inversa)."
   ]
  },
  {
   "cell_type": "markdown",
   "metadata": {},
   "source": [
    "# Exercício 11\n",
    "**Objetivo: relacionar transformações geométricas com o determinante das matrizes**\n",
    "\n",
    "1. Transforme a núvem de pontos anterior com a matriz $A$ abaixo. Use os seguintes valores para $D$: 1, 1.5, 2, 0. Para cada valor de $D$ na matriz, calcule o determinante da matriz e a área da núvem de pontos resultante.\n",
    "$$\n",
    "A = \n",
    "\\begin{bmatrix}\n",
    "    1 & 0\\\\\n",
    "    0 & D\n",
    "\\end{bmatrix}\n",
    "$$\n",
    "\n",
    "2. Reflita: o que significa o determinante em relação à transformação da área da núvem de pontos?\n",
    "3. Reflita: por que o determinante $0$ implica necessariamente em uma matriz não ser inversível?"
   ]
  },
  {
   "cell_type": "markdown",
   "metadata": {},
   "source": [
    "# Exercício 12\n",
    "**Objetivo: aplicar transformadas compostas**\n",
    "\n",
    "Podemos aplicar transformadas em sequência. Por exemplo, a figura abaixo pode ser obtida primeiro aplicando uma contração/expansão nos eixos $x$ e $y$, e depois disso uma rotação:\n",
    "\n",
    "<img src=\"transformada_composta.png\" width=300>\n",
    "\n",
    "1. Reproduza a imagem acima usando nossa núvem de pontos. Se precisar, use as matrizes de rotação que estão nos exercícios anteriores.\n",
    "2. Encontre uma matriz que realiza, simultaneamente, as duas transformações acima. Como é o procedimento para encontrá-la?\n",
    "3. Seria possível termos matrizes que realizam 3 ou mais etapas de transformações simultaneamente?"
   ]
  },
  {
   "cell_type": "code",
   "execution_count": 68,
   "metadata": {},
   "outputs": [],
   "source": [
    "# Faça seu código aqui"
   ]
  },
  {
   "cell_type": "code",
   "execution_count": null,
   "metadata": {},
   "outputs": [],
   "source": []
  }
 ],
 "metadata": {
  "kernelspec": {
   "display_name": "Python 3.7.12",
   "language": "python",
   "name": "python3"
  },
  "language_info": {
   "codemirror_mode": {
    "name": "ipython",
    "version": 3
   },
   "file_extension": ".py",
   "mimetype": "text/x-python",
   "name": "python",
   "nbconvert_exporter": "python",
   "pygments_lexer": "ipython3",
   "version": "3.7.12"
  },
  "orig_nbformat": 4,
  "vscode": {
   "interpreter": {
    "hash": "48a163085726af4aa892ebfc5efd6be8ee4b935d9ea37781e4f79f4457b77d39"
   }
  }
 },
 "nbformat": 4,
 "nbformat_minor": 2
}
