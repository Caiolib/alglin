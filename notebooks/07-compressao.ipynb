{
 "cells": [
  {
   "attachments": {},
   "cell_type": "markdown",
   "metadata": {},
   "source": [
    "# Capítulo 7\n",
    "\n",
    "# Parte 1"
   ]
  },
  {
   "attachments": {},
   "cell_type": "markdown",
   "metadata": {},
   "source": [
    "# Exercício 1\n",
    "*Objetivo: contar probabilidades de caracteres em uma string*\n",
    "\n",
    "Uma característica importante de textos em linguagem natural é que a probabilidade de ocorrência de cada um dos caracteres não é a mesma. Isso significa que, por exemplo, em português, é muito mais comum encontrarmos a letra \"A\" que a letra \"W\" em uma palavra.\n",
    "\n",
    "Então, podemos calcular a probabilidade: $P(\\text{letra} | \\text{texto})$, que é a probabilidade de, ao selecionarmos um caractere aleatório de um texto, encontrarmos a letra correspondente. Por exemplo, o código abaixo calcula $P(a|\\text{texto})$:"
   ]
  },
  {
   "cell_type": "code",
   "execution_count": 25,
   "metadata": {},
   "outputs": [],
   "source": [
    "texto = \"\"\"SERIA SO SAUDADE\"\"\""
   ]
  },
  {
   "cell_type": "code",
   "execution_count": 26,
   "metadata": {},
   "outputs": [
    {
     "name": "stdout",
     "output_type": "stream",
     "text": [
      "0.1875\n"
     ]
    }
   ],
   "source": [
    "n_a = texto.count('A')\n",
    "N_total = len(texto)\n",
    "P_a_texto = n_a/N_total\n",
    "print(P_a_texto)"
   ]
  },
  {
   "attachments": {},
   "cell_type": "markdown",
   "metadata": {},
   "source": [
    "Podemos saber quais caracteres existem em uma string transformando-a em um `set`, como abaixo. \n",
    "\n",
    "Com base no código que já fizemos, faça um código para calcular P(letra|texto) para todos os caracteres da string. Após, use o código de exemplo (está comentado, logo abaixo) para gerar um bar plot das probabilidades que você calculou."
   ]
  },
  {
   "cell_type": "code",
   "execution_count": 27,
   "metadata": {},
   "outputs": [
    {
     "name": "stdout",
     "output_type": "stream",
     "text": [
      "{'E', ' ', 'D', 'A', 'O', 'R', 'U', 'S', 'I'}\n"
     ]
    }
   ],
   "source": [
    "caracteres_unicos = set(texto)\n",
    "print(caracteres_unicos)"
   ]
  },
  {
   "cell_type": "code",
   "execution_count": 28,
   "metadata": {},
   "outputs": [],
   "source": [
    "# import matplotlib.pyplot as plt\n",
    "\n",
    "# letras = ['a', 'b', 'c']\n",
    "# probs = [0.9, 0.1, 0.2]\n",
    "# plt.figure()\n",
    "# plt.bar(letras, probs)\n",
    "# plt.show()\n"
   ]
  },
  {
   "attachments": {},
   "cell_type": "markdown",
   "metadata": {},
   "source": [
    "## Exercício 2\n",
    "*Objetivo: entender o que é codificação e suas implicações*\n",
    "\n",
    "Quando nos comunicamos por escrito, usamos símbolos como \"a\", \"b\" ou \"c\". Esses símbolos fazem parte de um conjunto de símbolos válidos que é chamado de \"alfabeto\". O processo de codificação significa encontrar a correspondência entre símbolos de um alfabeto para outro. Um exemplo disso é quando usamos bytes para representar letras (como na tabela ASCII): nesse caso, temos um alfabeto de 256 combinações de bits que está sendo mapeado para símbolos do alfabeto usual.\n",
    "\n",
    "1. Se usamos 1 byte para representar cada letra, quantos bytes são necessários para codificar a palavra BANANA?\n",
    "1. Porém, se tivermos uma codificação de tamanho variável, em que B é codificado por 3 bits, N em 5 bits, a A em 12 bits, quantos bytes precisaríamos para codificar BANANA?\n",
    "1. Se tivermos uma codificação de tamanho variável, em que B é codificado por 12 bits, N em 8 bits, a A em 3 bits, quantos bytes precisaríamos para codificar BANANA?\n",
    "1. Se quisermos encontrar um código de tamanho variável para representar nosso texto de tal forma que o tamanho total do código seja mínimo, qual deve ser a relação entre o tamanho da codificação de cada caractere e a sua frequência de ocorrência?"
   ]
  },
  {
   "attachments": {},
   "cell_type": "markdown",
   "metadata": {},
   "source": [
    "## Exercício 3\n",
    "*Objetivo: entender o algoritmo subjacente ao código de Huffman*\n",
    "\n",
    "Uma das maneiras de encontrar códigos de tamanho mínimo para uma string inteira é usar o algoritmo de Huffman. A ideia do algoritmo é a seguinte:\n",
    "\n",
    "1. Calculamos a probabilidade de encontrar cada um dos símbolos da string\n",
    "1. Ordenamos os símbolos em ordem crescente de sua probabilidade de ocorrência, e colocamos esses símbolos numa lista\n",
    "1. Tiramos os dois elementos de menor probabilidade da lista e unimos ambos em um terceiro, que tem probabilidade igual à soma das probabilidades dos elementos retirados.\n",
    "1. Inserimos esse novo elemento na lista\n",
    "1. Se há mais de um elemento na lista, voltamos ao passo 2.\n",
    "\n",
    "Usando essa explicação do algoritmo, e sua implementação abaixo, desenhe (na lousa ou no papel!) a árvore que aparece quando tentamos representar as strings:\n",
    "\n",
    "1. BANANA\n",
    "1. BATMAN\n",
    "1. ABACATE\n",
    "1. ABCD"
   ]
  },
  {
   "cell_type": "code",
   "execution_count": 13,
   "metadata": {},
   "outputs": [
    {
     "name": "stdout",
     "output_type": "stream",
     "text": [
      "{'filho_0': {'filho_0': {'prob': 0.16666666666666666, 'valor': 'B'},\n",
      "             'filho_1': {'prob': 0.3333333333333333, 'valor': 'N'},\n",
      "             'prob': 0.5,\n",
      "             'valor': 'NAO_FOLHA'},\n",
      " 'filho_1': {'prob': 0.5, 'valor': 'A'},\n",
      " 'prob': 1.0,\n",
      " 'valor': 'NAO_FOLHA'}\n"
     ]
    }
   ],
   "source": [
    "def huffman_tree(texto : str):\n",
    "    \"\"\"Monta a arvore de codificacao usando o algoritmo de huffman\"\"\"\n",
    "    def get_prob(item):\n",
    "        return item['prob']\n",
    "\n",
    "    f = []\n",
    "\n",
    "    # Calcula probabilidade de cada caractere      \n",
    "    for c in set(texto):\n",
    "        f.append(  {'prob':texto.count(c)/len(texto), 'valor':c} )\n",
    "    f.sort(key=get_prob)\n",
    "    \n",
    "    while len(f) > 1:\n",
    "        c1 = f.pop(0)\n",
    "        c2 = f.pop(0)\n",
    "        novo_node = {'valor':'NAO_FOLHA', 'prob':c1['prob']+c2['prob'], 'filho_0':c1, 'filho_1': c2}\n",
    "        \n",
    "        f.insert(0, novo_node)\n",
    "        f.sort(key=get_prob)\n",
    "\n",
    "    return f[0]\n",
    "\n",
    "from pprint import pprint\n",
    "pprint(huffman_tree(\"BANANA\"))"
   ]
  },
  {
   "attachments": {},
   "cell_type": "markdown",
   "metadata": {},
   "source": [
    "## Exercício 4\n",
    "*Objetivo: realizar manualmente a codificação e a decodificação usando código de huffman*\n",
    "\n",
    "Uma vez que temos a árvore de codificação de huffman, vamos, de fato, criar um código.\n",
    "\n",
    "Para chegar da raiz da árvore até um nó-folha, precisamos passar por um caminho em que temos que decidir por ir pelo `filho_0` ou pelo `filho_1`. O código referente a cada caractere é o caminho que fizemos para chegar até ele, sendo que cada passagem por `filho_0` é um bit 0, e cada passagem por `filho_1` é um bit 1. Por exemplo, na árvore abaixo:\n",
    "\n",
    "<img src=\"arvore_huffman.jpg\" height=400 />\n",
    "\n",
    "teríamos as codificações:\n",
    "\n",
    "| Símbolo | Código |\n",
    "| --- | --- |\n",
    "| A | 1 |\n",
    "| B | 01 |\n",
    "| C | 00 |\n",
    "\n",
    "portanto, uma sequência ABC seria codificada para 10100.\n",
    "\n",
    "Da mesma forma, um código pode ser lido simplesmente seguindo a árvore. Ao receber, por exemplo, 100, primeiro fazemos o caminho na árvore com o bit 1, e isso nos dá o caractere A. Como temos um caractere, voltamos para o começo. Recebemos o bit 0, e chegamos a um nó não-folha, e depois um outro bit 0, e então chegamos a um nó-folha correspondendo ao caractere C, e, portanto, a mensagem é AC.\n",
    "\n",
    "1. Como seria a codificação da sequência AABCB?\n",
    "1. Qual sequência corresponde ao código 1010010100?\n",
    "1. Usando a árvore que você criou para a palavra BANANA, encontre a codificação para a palavra BANANA. Faça o mesmo para BATMAN e ABACATE.\n",
    "1. Crie uma codificação para a palvra BATMAN e use para codificar a palavra BANANA. Qual foi a sequência de bits encontrada?\n"
   ]
  },
  {
   "attachments": {},
   "cell_type": "markdown",
   "metadata": {},
   "source": [
    "## Exercício 5\n",
    "*Objetivo: verificar o efeito de compressibilidade do código de huffman*\n",
    "\n",
    "Se temos cinco caracteres no nosso alfabeto, tipicamente precisamos de três bits para representar cada caracteres.\n",
    "\n",
    "1. Usando o procedimento que fizemos até agora, encontre a codificação de Huffman para a palavra ABACATE.\n",
    "1. Quantos bits essa codificação tem? (resposta esperada: 15 bits)\n",
    "1. Quantos bits são necessários para codificar ABACATE sem usar o código de Huffman? (resposta esperada: 21 bits)\n"
   ]
  },
  {
   "attachments": {},
   "cell_type": "markdown",
   "metadata": {},
   "source": [
    "## Exercício 6\n",
    "*Objetivo: usar o conceito de entropia no contexto de compressão*\n",
    "\n",
    "É um ponto razoavelmente pacífico dizer que a sequência AAAAAAA é mais simples que ABCDEFG. Mesmo que ambas tenham o mesmo tamanho, AAAAAAA tem somente a repetição de um caractere, ao passo que ABCDEFG tem caracteres diferentes que nunca se repetem.\n",
    "\n",
    "1. Uma sequência mais previsível, isto é, que tende a repetir mais elementos, é mais compressível ou menos compressível ao usarmos códigos de Huffman?\n",
    "1. Uma sequência menos previsível, isto é, que não repete muito seus elementos, é mais compressível ou menos compressível ao usarmos códigos de Huffman?\n",
    "1. Uma sequência mais previsível tem entropia alta ou baixa?\n",
    "1. Como a entropia deve se relacionar com a compressibilidade?\n",
    "1. A *entropia de uma sequência* é usada como um limite inferior para o número de bits que devem ser usados para representá-la. Calcule a entropia das palavras BATMAN, BANANA e ABACATE e compare com o tamanho das sequências que encontramos usando os códigos de Huffman."
   ]
  },
  {
   "cell_type": "code",
   "execution_count": 20,
   "metadata": {},
   "outputs": [
    {
     "data": {
      "text/plain": [
       "6.068425588244111"
      ]
     },
     "execution_count": 20,
     "metadata": {},
     "output_type": "execute_result"
    }
   ],
   "source": [
    "import numpy as np\n",
    "import scipy.stats as stats\n",
    "palavra = \"BANANA\"\n",
    "probs = np.array(  [palavra.count(w) for w in set(palavra)])/len(palavra)\n",
    "E = stats.entropy(probs)\n",
    "E*len(palavra)"
   ]
  },
  {
   "attachments": {},
   "cell_type": "markdown",
   "metadata": {},
   "source": [
    "|"
   ]
  }
 ],
 "metadata": {
  "kernelspec": {
   "display_name": "math",
   "language": "python",
   "name": "python3"
  },
  "language_info": {
   "codemirror_mode": {
    "name": "ipython",
    "version": 3
   },
   "file_extension": ".py",
   "mimetype": "text/x-python",
   "name": "python",
   "nbconvert_exporter": "python",
   "pygments_lexer": "ipython3",
   "version": "3.10.9"
  },
  "orig_nbformat": 4
 },
 "nbformat": 4,
 "nbformat_minor": 2
}
