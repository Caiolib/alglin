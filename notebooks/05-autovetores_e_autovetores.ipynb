{
 "cells": [
  {
   "cell_type": "code",
   "execution_count": null,
   "metadata": {},
   "outputs": [],
   "source": [
    "import numpy as np\n",
    "import matplotlib.pyplot as plt\n",
    "import matplotlib.image as mpimg\n",
    "import cv2 as cv\n",
    "import pandas as pd\n",
    "import pygame"
   ]
  },
  {
   "attachments": {},
   "cell_type": "markdown",
   "metadata": {},
   "source": [
    "# Capítulo 5"
   ]
  },
  {
   "attachments": {},
   "cell_type": "markdown",
   "metadata": {},
   "source": [
    "# Parte 1"
   ]
  },
  {
   "attachments": {},
   "cell_type": "markdown",
   "metadata": {},
   "source": [
    "# Exercício 1\n",
    "**Objetivo: Executar um sistema dinâmico e procurar por pontos de estabilidade**"
   ]
  },
  {
   "attachments": {},
   "cell_type": "markdown",
   "metadata": {},
   "source": [
    "# Entender o ponto de estabilidade usando o conceito de auto-vetor\n",
    "\n",
    "Para um único auto-vetor:\n",
    "$ A v = v \\lambda$\n",
    "\n",
    "Para todos os auto-vetores:\n",
    "* $P$ = matriz de auto-vetores (um auto-vetor por coluna)\n",
    "* $D$ = matriz de auto-valores (na diagonal principal)\n",
    "$ A P = P D \\rightarrow A = P D P^{-1}$\n"
   ]
  },
  {
   "attachments": {},
   "cell_type": "markdown",
   "metadata": {},
   "source": [
    "# Calcular auto-vetores e auto-valores de uma matriz manualmente"
   ]
  },
  {
   "attachments": {},
   "cell_type": "markdown",
   "metadata": {},
   "source": [
    "# Calcular auto-vetores e auto-valores em uma matriz usando o pacote Python"
   ]
  },
  {
   "attachments": {},
   "cell_type": "markdown",
   "metadata": {},
   "source": [
    "# Classificar sistemas dinâmicos como equilíbrio, colapso ou explosão (talvez: teoria de jogos?)"
   ]
  },
  {
   "attachments": {},
   "cell_type": "markdown",
   "metadata": {},
   "source": [
    "# Encontrar uma matriz à partir de seus auto-valores e auto-vetores\n",
    "\n",
    "* $P$ = matriz de auto-vetores (um auto-vetor por coluna)\n",
    "* $D$ = matriz de auto-valores (na diagonal principal)\n",
    "* $A = P D P ^{-1}$"
   ]
  },
  {
   "attachments": {},
   "cell_type": "markdown",
   "metadata": {},
   "source": [
    "# Usar auto-valores e auto-vetores para tunar o comportamento de bots em um jogo"
   ]
  },
  {
   "attachments": {},
   "cell_type": "markdown",
   "metadata": {},
   "source": [
    "# Parte 2"
   ]
  },
  {
   "attachments": {},
   "cell_type": "markdown",
   "metadata": {},
   "source": [
    "# Usar uma matriz de covariância para representar dados (duas colunas)"
   ]
  },
  {
   "attachments": {},
   "cell_type": "markdown",
   "metadata": {},
   "source": [
    "# Relacionar a direção dos autovetores da matriz de covariância com a direção dos dados"
   ]
  },
  {
   "attachments": {},
   "cell_type": "markdown",
   "metadata": {},
   "source": [
    "# Verificar que autovetores da matriz de covariância são ortogonais entre si"
   ]
  },
  {
   "attachments": {},
   "cell_type": "markdown",
   "metadata": {},
   "source": [
    "# Usar os autovetores da matriz de covariância para fazer PCA e visualizar scatterplot de dados de alta dimensão"
   ]
  },
  {
   "attachments": {},
   "cell_type": "markdown",
   "metadata": {},
   "source": [
    "# Parte 3"
   ]
  },
  {
   "attachments": {},
   "cell_type": "markdown",
   "metadata": {},
   "source": [
    "# Analisar o erro de reconstrução ao usar PCA"
   ]
  },
  {
   "attachments": {},
   "cell_type": "markdown",
   "metadata": {},
   "source": [
    "# Construir PCA usando método de gradiente (manualmente)"
   ]
  },
  {
   "attachments": {},
   "cell_type": "markdown",
   "metadata": {},
   "source": [
    "# Construir PCA usando método de gradiente (autograd)"
   ]
  },
  {
   "attachments": {},
   "cell_type": "markdown",
   "metadata": {},
   "source": [
    "# Usar PCA do sklearn"
   ]
  },
  {
   "attachments": {},
   "cell_type": "markdown",
   "metadata": {},
   "source": [
    "# Parte 4"
   ]
  },
  {
   "attachments": {},
   "cell_type": "markdown",
   "metadata": {},
   "source": [
    "# Verificar o teorema SVD\n",
    "\n",
    "[Demonstração do teorema](https://gregorygundersen.com/blog/2018/12/20/svd-proof/)\n",
    "\n",
    "$ A = USV^T $\n",
    "onde\n",
    "$ U^T U = I$\n",
    "$ V^T V = I$\n",
    "\n",
    "* Colunas de $V$ são os autovetores de $A A^T$\n",
    "* Autovetores de $U$ são autovetores de $A^T A$ \n",
    "* $S$ é uma matriz diagonal com "
   ]
  },
  {
   "attachments": {},
   "cell_type": "markdown",
   "metadata": {},
   "source": [
    "# Manipular a matriz S em uma imagem e verificar os resultados"
   ]
  },
  {
   "attachments": {},
   "cell_type": "markdown",
   "metadata": {},
   "source": [
    "# Remover ruídos de uma imagem manipulando a matriz S"
   ]
  },
  {
   "attachments": {},
   "cell_type": "markdown",
   "metadata": {},
   "source": [
    "# Comprimir uma imagem modificando a matriz S"
   ]
  },
  {
   "attachments": {},
   "cell_type": "markdown",
   "metadata": {},
   "source": [
    "Projeto\n",
    "\n",
    "Sistema de recomendação (desafio NetFlix)"
   ]
  },
  {
   "attachments": {},
   "cell_type": "markdown",
   "metadata": {},
   "source": [
    "# "
   ]
  }
 ],
 "metadata": {
  "kernelspec": {
   "display_name": "Python 3",
   "language": "python",
   "name": "python3"
  },
  "language_info": {
   "name": "python",
   "version": "3.7.12 | packaged by conda-forge | (default, Oct 26 2021, 05:37:49) [MSC v.1916 64 bit (AMD64)]"
  },
  "orig_nbformat": 4,
  "vscode": {
   "interpreter": {
    "hash": "48a163085726af4aa892ebfc5efd6be8ee4b935d9ea37781e4f79f4457b77d39"
   }
  }
 },
 "nbformat": 4,
 "nbformat_minor": 2
}
